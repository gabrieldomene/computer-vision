{
 "cells": [
  {
   "cell_type": "code",
   "execution_count": 1,
   "metadata": {
    "collapsed": true
   },
   "outputs": [],
   "source": [
    "%matplotlib inline\n",
    "%config InlineBackend.figure_format = \"retina\"\n",
    "\n",
    "from collections import OrderedDict\n",
    "\n",
    "import numpy as np\n",
    "import time\n",
    "import torch\n",
    "from torch import nn\n",
    "from torch import optim\n",
    "import torch.nn.functional as F\n",
    "import helper"
   ]
  },
  {
   "cell_type": "code",
   "execution_count": 2,
   "metadata": {
    "collapsed": true
   },
   "outputs": [
    {
     "name": "stdout",
     "output_type": "stream",
     "text": [
      "tensor([[-1.3055,  1.0103],\n",
      "        [ 0.6196, -0.3931]], requires_grad=True)\n"
     ]
    }
   ],
   "source": [
    "x = torch.randn(2, 2, requires_grad=True)\n",
    "print(x)"
   ]
  },
  {
   "cell_type": "code",
   "execution_count": 3,
   "metadata": {
    "collapsed": true
   },
   "outputs": [
    {
     "name": "stdout",
     "output_type": "stream",
     "text": [
      "tensor([[1.7044, 1.0206],\n",
      "        [0.3838, 0.1545]], grad_fn=<PowBackward0>)\n"
     ]
    }
   ],
   "source": [
    "y = x**2\n",
    "print(y)"
   ]
  },
  {
   "cell_type": "code",
   "execution_count": 4,
   "metadata": {
    "collapsed": true
   },
   "outputs": [
    {
     "name": "stdout",
     "output_type": "stream",
     "text": [
      "<PowBackward0 object at 0x7f113484b4e0>\n"
     ]
    }
   ],
   "source": [
    "print(y.grad_fn)"
   ]
  },
  {
   "cell_type": "code",
   "execution_count": 5,
   "metadata": {
    "collapsed": true
   },
   "outputs": [
    {
     "name": "stdout",
     "output_type": "stream",
     "text": [
      "tensor(0.8158, grad_fn=<MeanBackward0>)\n"
     ]
    }
   ],
   "source": [
    "z = y.mean()\n",
    "print(z)"
   ]
  },
  {
   "cell_type": "code",
   "execution_count": 6,
   "metadata": {
    "collapsed": true
   },
   "outputs": [],
   "source": [
    "x.grad"
   ]
  },
  {
   "cell_type": "code",
   "execution_count": 7,
   "metadata": {
    "collapsed": true
   },
   "outputs": [
    {
     "name": "stdout",
     "output_type": "stream",
     "text": [
      "tensor([[-0.6528,  0.5051],\n",
      "        [ 0.3098, -0.1965]])\n",
      "tensor([[-0.6528,  0.5051],\n",
      "        [ 0.3098, -0.1965]], grad_fn=<DivBackward0>)\n"
     ]
    }
   ],
   "source": [
    "z.backward()\n",
    "print(x.grad)\n",
    "print(x/2)"
   ]
  },
  {
   "cell_type": "markdown",
   "metadata": {},
   "source": [
    "# Get data and define the network"
   ]
  },
  {
   "cell_type": "code",
   "execution_count": 9,
   "metadata": {
    "collapsed": true
   },
   "outputs": [],
   "source": [
    "from torchvision import datasets, transforms\n",
    "\n",
    "# Define a transform to normalize\n",
    "transform = transforms.Compose([transforms.ToTensor(),\n",
    "                                transforms.Normalize((0.5,), (0.5,)),\n",
    "                               ])\n",
    "# Download and load the training\n",
    "trainset = datasets.MNIST(\"MNIST_data/\", download=True, train=True, transform=transform)\n",
    "trainloader = torch.utils.data.DataLoader(trainset, batch_size=64, shuffle=True)"
   ]
  },
  {
   "cell_type": "code",
   "execution_count": 12,
   "metadata": {
    "collapsed": true
   },
   "outputs": [],
   "source": [
    "# Hyperparams to the network\n",
    "input_size = 784\n",
    "hidden_sizes = [128, 64]\n",
    "output_size = 10\n",
    "\n",
    "# Feed forward\n",
    "model = nn.Sequential(OrderedDict([\n",
    "                     (\"fc1\", nn.Linear(input_size, hidden_sizes[0])),\n",
    "                     (\"relu1\", nn.ReLU()),\n",
    "                     (\"fc2\", nn.Linear(hidden_sizes[0], hidden_sizes[1])),\n",
    "                     (\"relu2\", nn.ReLU()),\n",
    "                     (\"logits\", nn.Linear(hidden_sizes[1], output_size))]))"
   ]
  },
  {
   "cell_type": "markdown",
   "metadata": {},
   "source": [
    "## Training"
   ]
  },
  {
   "cell_type": "code",
   "execution_count": 15,
   "metadata": {
    "collapsed": true
   },
   "outputs": [],
   "source": [
    "criterion = nn.CrossEntropyLoss()\n",
    "optimizer = optim.SGD(model.parameters(), lr=0.01)"
   ]
  },
  {
   "cell_type": "code",
   "execution_count": 16,
   "metadata": {
    "collapsed": true
   },
   "outputs": [
    {
     "name": "stdout",
     "output_type": "stream",
     "text": [
      "Before Parameter containing:\n",
      "tensor([[-0.0200, -0.0067, -0.0304,  ...,  0.0248, -0.0094,  0.0089],\n",
      "        [ 0.0280, -0.0265, -0.0318,  ..., -0.0070, -0.0342, -0.0346],\n",
      "        [-0.0047, -0.0042, -0.0243,  ..., -0.0033,  0.0044, -0.0213],\n",
      "        ...,\n",
      "        [-0.0145,  0.0283, -0.0079,  ...,  0.0252,  0.0321,  0.0303],\n",
      "        [-0.0210, -0.0311, -0.0028,  ..., -0.0071, -0.0315,  0.0317],\n",
      "        [ 0.0313,  0.0021, -0.0348,  ..., -0.0094,  0.0269, -0.0264]],\n",
      "       requires_grad=True)\n",
      "Gradient tensor([[ 0.0002,  0.0002,  0.0002,  ...,  0.0002,  0.0002,  0.0002],\n",
      "        [-0.0015, -0.0015, -0.0015,  ..., -0.0015, -0.0015, -0.0015],\n",
      "        [-0.0004, -0.0004, -0.0004,  ..., -0.0004, -0.0004, -0.0004],\n",
      "        ...,\n",
      "        [-0.0013, -0.0013, -0.0013,  ..., -0.0013, -0.0013, -0.0013],\n",
      "        [-0.0016, -0.0016, -0.0016,  ..., -0.0016, -0.0016, -0.0016],\n",
      "        [ 0.0068,  0.0068,  0.0068,  ...,  0.0068,  0.0068,  0.0068]])\n"
     ]
    }
   ],
   "source": [
    "print(\"Before {}\".format(model.fc1.weight))\n",
    "\n",
    "images, labels = next(iter(trainloader))\n",
    "images.resize_(64, 784)\n",
    "\n",
    "optimizer.zero_grad()\n",
    "\n",
    "# Forward pass\n",
    "output = model.forward(images)\n",
    "loss = criterion(output, labels)\n",
    "loss.backward()\n",
    "print(\"Gradient {}\" .format(model.fc1.weight.grad))\n",
    "optimizer.step()"
   ]
  },
  {
   "cell_type": "code",
   "execution_count": 18,
   "metadata": {
    "collapsed": true
   },
   "outputs": [
    {
     "name": "stdout",
     "output_type": "stream",
     "text": [
      "Updated weights Parameter containing:\n",
      "tensor([[-0.0200, -0.0067, -0.0304,  ...,  0.0248, -0.0094,  0.0089],\n",
      "        [ 0.0281, -0.0265, -0.0318,  ..., -0.0070, -0.0342, -0.0346],\n",
      "        [-0.0047, -0.0042, -0.0243,  ..., -0.0033,  0.0044, -0.0213],\n",
      "        ...,\n",
      "        [-0.0145,  0.0283, -0.0079,  ...,  0.0252,  0.0322,  0.0303],\n",
      "        [-0.0210, -0.0311, -0.0028,  ..., -0.0071, -0.0314,  0.0317],\n",
      "        [ 0.0313,  0.0020, -0.0349,  ..., -0.0094,  0.0268, -0.0265]],\n",
      "       requires_grad=True)\n"
     ]
    }
   ],
   "source": [
    "print(\"Updated weights {}\" .format(model.fc1.weight))"
   ]
  },
  {
   "cell_type": "markdown",
   "metadata": {},
   "source": [
    "# Training epochs"
   ]
  },
  {
   "cell_type": "code",
   "execution_count": 19,
   "metadata": {},
   "outputs": [
    {
     "name": "stdout",
     "output_type": "stream",
     "text": [
      "\n",
      "            Epoch: 1/3...\n",
      "\n",
      "            Loss: 2.2791\n",
      "            \n",
      "\n",
      "            Epoch: 1/3...\n",
      "\n",
      "            Loss: 2.1930\n",
      "            \n",
      "\n",
      "            Epoch: 1/3...\n",
      "\n",
      "            Loss: 2.0855\n",
      "            \n",
      "\n",
      "            Epoch: 1/3...\n",
      "\n",
      "            Loss: 1.9549\n",
      "            \n",
      "\n",
      "            Epoch: 1/3...\n",
      "\n",
      "            Loss: 1.7593\n",
      "            \n",
      "\n",
      "            Epoch: 1/3...\n",
      "\n",
      "            Loss: 1.5509\n",
      "            \n",
      "\n",
      "            Epoch: 1/3...\n",
      "\n",
      "            Loss: 1.3222\n",
      "            \n",
      "\n",
      "            Epoch: 1/3...\n",
      "\n",
      "            Loss: 1.1194\n",
      "            \n",
      "\n",
      "            Epoch: 1/3...\n",
      "\n",
      "            Loss: 0.9703\n",
      "            \n",
      "\n",
      "            Epoch: 1/3...\n",
      "\n",
      "            Loss: 0.8703\n",
      "            \n",
      "\n",
      "            Epoch: 1/3...\n",
      "\n",
      "            Loss: 0.7604\n",
      "            \n",
      "\n",
      "            Epoch: 1/3...\n",
      "\n",
      "            Loss: 0.6948\n",
      "            \n",
      "\n",
      "            Epoch: 1/3...\n",
      "\n",
      "            Loss: 0.6563\n",
      "            \n",
      "\n",
      "            Epoch: 1/3...\n",
      "\n",
      "            Loss: 0.6138\n",
      "            \n",
      "\n",
      "            Epoch: 1/3...\n",
      "\n",
      "            Loss: 0.5733\n",
      "            \n",
      "\n",
      "            Epoch: 1/3...\n",
      "\n",
      "            Loss: 0.5618\n",
      "            \n",
      "\n",
      "            Epoch: 1/3...\n",
      "\n",
      "            Loss: 0.4983\n",
      "            \n",
      "\n",
      "            Epoch: 1/3...\n",
      "\n",
      "            Loss: 0.5561\n",
      "            \n",
      "\n",
      "            Epoch: 1/3...\n",
      "\n",
      "            Loss: 0.4780\n",
      "            \n",
      "\n",
      "            Epoch: 1/3...\n",
      "\n",
      "            Loss: 0.4750\n",
      "            \n",
      "\n",
      "            Epoch: 1/3...\n",
      "\n",
      "            Loss: 0.4869\n",
      "            \n",
      "\n",
      "            Epoch: 1/3...\n",
      "\n",
      "            Loss: 0.4723\n",
      "            \n",
      "\n",
      "            Epoch: 1/3...\n",
      "\n",
      "            Loss: 0.4321\n",
      "            \n",
      "\n",
      "            Epoch: 2/3...\n",
      "\n",
      "            Loss: 0.2165\n",
      "            \n",
      "\n",
      "            Epoch: 2/3...\n",
      "\n",
      "            Loss: 0.4188\n",
      "            \n",
      "\n",
      "            Epoch: 2/3...\n",
      "\n",
      "            Loss: 0.3998\n",
      "            \n",
      "\n",
      "            Epoch: 2/3...\n",
      "\n",
      "            Loss: 0.4403\n",
      "            \n",
      "\n",
      "            Epoch: 2/3...\n",
      "\n",
      "            Loss: 0.3874\n",
      "            \n",
      "\n",
      "            Epoch: 2/3...\n",
      "\n",
      "            Loss: 0.4033\n",
      "            \n",
      "\n",
      "            Epoch: 2/3...\n",
      "\n",
      "            Loss: 0.3714\n",
      "            \n",
      "\n",
      "            Epoch: 2/3...\n",
      "\n",
      "            Loss: 0.3769\n",
      "            \n",
      "\n",
      "            Epoch: 2/3...\n",
      "\n",
      "            Loss: 0.3980\n",
      "            \n",
      "\n",
      "            Epoch: 2/3...\n",
      "\n",
      "            Loss: 0.3639\n",
      "            \n",
      "\n",
      "            Epoch: 2/3...\n",
      "\n",
      "            Loss: 0.3878\n",
      "            \n",
      "\n",
      "            Epoch: 2/3...\n",
      "\n",
      "            Loss: 0.3611\n",
      "            \n",
      "\n",
      "            Epoch: 2/3...\n",
      "\n",
      "            Loss: 0.4018\n",
      "            \n",
      "\n",
      "            Epoch: 2/3...\n",
      "\n",
      "            Loss: 0.4084\n",
      "            \n",
      "\n",
      "            Epoch: 2/3...\n",
      "\n",
      "            Loss: 0.3474\n",
      "            \n",
      "\n",
      "            Epoch: 2/3...\n",
      "\n",
      "            Loss: 0.3525\n",
      "            \n",
      "\n",
      "            Epoch: 2/3...\n",
      "\n",
      "            Loss: 0.3740\n",
      "            \n",
      "\n",
      "            Epoch: 2/3...\n",
      "\n",
      "            Loss: 0.3445\n",
      "            \n",
      "\n",
      "            Epoch: 2/3...\n",
      "\n",
      "            Loss: 0.3615\n",
      "            \n",
      "\n",
      "            Epoch: 2/3...\n",
      "\n",
      "            Loss: 0.3581\n",
      "            \n",
      "\n",
      "            Epoch: 2/3...\n",
      "\n",
      "            Loss: 0.3815\n",
      "            \n",
      "\n",
      "            Epoch: 2/3...\n",
      "\n",
      "            Loss: 0.3209\n",
      "            \n",
      "\n",
      "            Epoch: 2/3...\n",
      "\n",
      "            Loss: 0.3476\n",
      "            \n",
      "\n",
      "            Epoch: 3/3...\n",
      "\n",
      "            Loss: 0.0445\n",
      "            \n",
      "\n",
      "            Epoch: 3/3...\n",
      "\n",
      "            Loss: 0.3402\n",
      "            \n",
      "\n",
      "            Epoch: 3/3...\n",
      "\n",
      "            Loss: 0.3121\n",
      "            \n",
      "\n",
      "            Epoch: 3/3...\n",
      "\n",
      "            Loss: 0.3358\n",
      "            \n",
      "\n",
      "            Epoch: 3/3...\n",
      "\n",
      "            Loss: 0.3575\n",
      "            \n",
      "\n",
      "            Epoch: 3/3...\n",
      "\n",
      "            Loss: 0.3545\n",
      "            \n",
      "\n",
      "            Epoch: 3/3...\n",
      "\n",
      "            Loss: 0.3234\n",
      "            \n",
      "\n",
      "            Epoch: 3/3...\n",
      "\n",
      "            Loss: 0.3220\n",
      "            \n",
      "\n",
      "            Epoch: 3/3...\n",
      "\n",
      "            Loss: 0.3245\n",
      "            \n",
      "\n",
      "            Epoch: 3/3...\n",
      "\n",
      "            Loss: 0.2902\n",
      "            \n",
      "\n",
      "            Epoch: 3/3...\n",
      "\n",
      "            Loss: 0.3287\n",
      "            \n",
      "\n",
      "            Epoch: 3/3...\n",
      "\n",
      "            Loss: 0.3173\n",
      "            \n",
      "\n",
      "            Epoch: 3/3...\n",
      "\n",
      "            Loss: 0.3049\n",
      "            \n",
      "\n",
      "            Epoch: 3/3...\n",
      "\n",
      "            Loss: 0.3240\n",
      "            \n",
      "\n",
      "            Epoch: 3/3...\n",
      "\n",
      "            Loss: 0.3118\n",
      "            \n",
      "\n",
      "            Epoch: 3/3...\n",
      "\n",
      "            Loss: 0.3391\n",
      "            \n",
      "\n",
      "            Epoch: 3/3...\n",
      "\n",
      "            Loss: 0.2975\n",
      "            \n",
      "\n",
      "            Epoch: 3/3...\n",
      "\n",
      "            Loss: 0.3107\n",
      "            \n",
      "\n",
      "            Epoch: 3/3...\n",
      "\n",
      "            Loss: 0.3145\n",
      "            \n",
      "\n",
      "            Epoch: 3/3...\n",
      "\n",
      "            Loss: 0.3036\n",
      "            \n",
      "\n",
      "            Epoch: 3/3...\n",
      "\n",
      "            Loss: 0.2901\n",
      "            \n",
      "\n",
      "            Epoch: 3/3...\n",
      "\n",
      "            Loss: 0.2922\n",
      "            \n",
      "\n",
      "            Epoch: 3/3...\n",
      "\n",
      "            Loss: 0.3342\n",
      "            \n",
      "\n",
      "            Epoch: 3/3...\n",
      "\n",
      "            Loss: 0.3196\n",
      "            \n"
     ]
    }
   ],
   "source": [
    "epochs = 3\n",
    "print_every = 40\n",
    "steps = 0\n",
    "for epoch in range(epochs):\n",
    "    running_loss = 0\n",
    "    for images, labels in trainloader:\n",
    "        steps += 1\n",
    "        images.resize_(images.shape[0], 784)\n",
    "        \n",
    "        optimizer.zero_grad()\n",
    "        output = model.forward(images)\n",
    "        loss = criterion(output, labels)\n",
    "        loss.backward()\n",
    "        optimizer.step()\n",
    "        \n",
    "        running_loss += loss.item()\n",
    "        \n",
    "        if steps % print_every == 0:\n",
    "            print(\"\"\"\n",
    "            Epoch: {}/{}... Loss: {:.4f}\n",
    "            \"\"\" .format(epoch+1, epochs, running_loss/print_every))\n",
    "            running_loss = 0"
   ]
  },
  {
   "cell_type": "code",
   "execution_count": 26,
   "metadata": {},
   "outputs": [
    {
     "data": {
      "image/png": "[encoded data removed]",
      "text/plain": [
       "<matplotlib.figure.Figure at 0x7f10b4e2f400>"
      ]
     },
     "metadata": {
      "image/png": {
       "height": 224,
       "width": 423
      },
      "needs_background": "light"
     },
     "output_type": "display_data"
    }
   ],
   "source": [
    "from random import randint\n",
    "images, labels = next(iter(trainloader))\n",
    "index = randint(1, images.shape[0])\n",
    "img = images[index].view(1, 784)\n",
    "\n",
    "# Turn off gradients to speed up\n",
    "with torch.no_grad():\n",
    "    logits = model.forward(img)\n",
    "\n",
    "# Output the classification\n",
    "ps = F.softmax(logits, dim=1)\n",
    "helper.view_classify(img.view(1, 28, 28), ps)"
   ]
  }
 ],
 "metadata": {
  "kernelspec": {
   "display_name": "Python 3",
   "language": "python",
   "name": "python3"
  },
  "language_info": {
   "codemirror_mode": {
    "name": "ipython",
    "version": 3
   },
   "file_extension": ".py",
   "mimetype": "text/x-python",
   "name": "python",
   "nbconvert_exporter": "python",
   "pygments_lexer": "ipython3",
   "version": "3.6.10"
  }
 },
 "nbformat": 4,
 "nbformat_minor": 4
}
