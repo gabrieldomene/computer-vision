{
 "cells": [
  {
   "cell_type": "markdown",
   "metadata": {},
   "source": [
    "# Building the network\n",
    "With MNIST, each image is 28*28 = 784 pixels and 10 classes"
   ]
  },
  {
   "cell_type": "code",
   "execution_count": 3,
   "metadata": {},
   "outputs": [
    {
     "name": "stdout",
     "output_type": "stream",
     "text": [
      "Epoch: 0/3 -- Loss: 2.2928\n",
      "Epoch: 0/3 -- Loss: 2.2739\n",
      "Epoch: 0/3 -- Loss: 2.2456\n",
      "Epoch: 0/3 -- Loss: 2.2019\n",
      "Epoch: 0/3 -- Loss: 2.1296\n",
      "Epoch: 0/3 -- Loss: 2.0371\n",
      "Epoch: 0/3 -- Loss: 1.9004\n",
      "Epoch: 0/3 -- Loss: 1.7592\n",
      "Epoch: 0/3 -- Loss: 1.5573\n",
      "Epoch: 0/3 -- Loss: 1.4173\n",
      "Epoch: 0/3 -- Loss: 1.2650\n",
      "Epoch: 0/3 -- Loss: 1.1588\n",
      "Epoch: 0/3 -- Loss: 1.0959\n",
      "Epoch: 0/3 -- Loss: 0.9984\n",
      "Epoch: 0/3 -- Loss: 0.9945\n",
      "Epoch: 0/3 -- Loss: 0.9458\n",
      "Epoch: 0/3 -- Loss: 0.9116\n",
      "Epoch: 0/3 -- Loss: 0.8760\n",
      "Epoch: 0/3 -- Loss: 0.8391\n",
      "Epoch: 0/3 -- Loss: 0.8222\n",
      "Epoch: 0/3 -- Loss: 0.8007\n",
      "Epoch: 0/3 -- Loss: 0.8073\n",
      "Epoch: 0/3 -- Loss: 0.7569\n",
      "Epoch: 1/3 -- Loss: 0.4542\n",
      "Epoch: 1/3 -- Loss: 0.7430\n",
      "Epoch: 1/3 -- Loss: 0.7671\n",
      "Epoch: 1/3 -- Loss: 0.7176\n",
      "Epoch: 1/3 -- Loss: 0.7393\n",
      "Epoch: 1/3 -- Loss: 0.6862\n",
      "Epoch: 1/3 -- Loss: 0.7035\n",
      "Epoch: 1/3 -- Loss: 0.6986\n",
      "Epoch: 1/3 -- Loss: 0.6692\n",
      "Epoch: 1/3 -- Loss: 0.6738\n",
      "Epoch: 1/3 -- Loss: 0.6528\n",
      "Epoch: 1/3 -- Loss: 0.6716\n",
      "Epoch: 1/3 -- Loss: 0.6786\n",
      "Epoch: 1/3 -- Loss: 0.6612\n",
      "Epoch: 1/3 -- Loss: 0.6946\n",
      "Epoch: 1/3 -- Loss: 0.6748\n",
      "Epoch: 1/3 -- Loss: 0.6132\n",
      "Epoch: 1/3 -- Loss: 0.6290\n",
      "Epoch: 1/3 -- Loss: 0.6241\n",
      "Epoch: 1/3 -- Loss: 0.6255\n",
      "Epoch: 1/3 -- Loss: 0.6134\n",
      "Epoch: 1/3 -- Loss: 0.6028\n",
      "Epoch: 1/3 -- Loss: 0.5953\n",
      "Epoch: 2/3 -- Loss: 0.0586\n",
      "Epoch: 2/3 -- Loss: 0.6543\n",
      "Epoch: 2/3 -- Loss: 0.5963\n",
      "Epoch: 2/3 -- Loss: 0.5950\n",
      "Epoch: 2/3 -- Loss: 0.5459\n",
      "Epoch: 2/3 -- Loss: 0.5938\n",
      "Epoch: 2/3 -- Loss: 0.5678\n",
      "Epoch: 2/3 -- Loss: 0.5808\n",
      "Epoch: 2/3 -- Loss: 0.5979\n",
      "Epoch: 2/3 -- Loss: 0.5742\n",
      "Epoch: 2/3 -- Loss: 0.5603\n",
      "Epoch: 2/3 -- Loss: 0.5627\n",
      "Epoch: 2/3 -- Loss: 0.5545\n",
      "Epoch: 2/3 -- Loss: 0.6009\n",
      "Epoch: 2/3 -- Loss: 0.5464\n",
      "Epoch: 2/3 -- Loss: 0.5255\n",
      "Epoch: 2/3 -- Loss: 0.5309\n",
      "Epoch: 2/3 -- Loss: 0.5392\n",
      "Epoch: 2/3 -- Loss: 0.5455\n",
      "Epoch: 2/3 -- Loss: 0.5385\n",
      "Epoch: 2/3 -- Loss: 0.5343\n",
      "Epoch: 2/3 -- Loss: 0.5244\n",
      "Epoch: 2/3 -- Loss: 0.5344\n",
      "Epoch: 2/3 -- Loss: 0.5571\n"
     ]
    }
   ],
   "source": [
    "import torch\n",
    "from torchvision import datasets, transforms\n",
    "import helper\n",
    "import numpy as np\n",
    "import time\n",
    "from torch import nn\n",
    "from torch import optim\n",
    "import torch.nn.functional as F\n",
    "from collections import OrderedDict\n",
    "\n",
    "# Define transform normalization\n",
    "transform = transforms.Compose([transforms.ToTensor(),\n",
    "                                transforms.Normalize((0.5, ), (0.5, ))])\n",
    "\n",
    "# Download dataset\n",
    "trainset = datasets.FashionMNIST(\"F_MNIST_data/\", download=True, train=True, transform=transform)\n",
    "trainloader = torch.utils.data.DataLoader(trainset, batch_size=64, shuffle=True)\n",
    "\n",
    "# Hyperparams to the network\n",
    "input_size = 784\n",
    "hidden_sizes = [128, 64, 32]\n",
    "output_size = 10\n",
    "\n",
    "# Feed forward\n",
    "model = nn.Sequential()\n",
    "\n",
    "model = nn.Sequential(OrderedDict([\n",
    "                     (\"fc1\", nn.Linear(input_size, hidden_sizes[0])),\n",
    "                     (\"relu1\", nn.ReLU()),\n",
    "                     (\"fc2\", nn.Linear(hidden_sizes[0], hidden_sizes[1])),\n",
    "                     (\"relu2\", nn.ReLU()),\n",
    "                     (\"fc3\", nn.Linear(hidden_sizes[1], hidden_sizes[2])),\n",
    "                     (\"relu3\", nn.ReLU()),\n",
    "                     (\"logits\", nn.Linear(hidden_sizes[2], output_size))]))\n",
    "\n",
    "criterion = nn.CrossEntropyLoss()\n",
    "optimizer = optim.SGD(model.parameters(), lr=0.01)\n",
    "\n",
    "epochs = 3\n",
    "print_every = 40\n",
    "steps = 0\n",
    "\n",
    "for epoch in range(epochs):\n",
    "    running_loss = 0\n",
    "    for images, labels in trainloader:\n",
    "        steps += 1\n",
    "        images.resize_(images.shape[0], 784)\n",
    "        \n",
    "        optimizer.zero_grad()\n",
    "        output = model.forward(images)\n",
    "        loss = criterion(output, labels)\n",
    "        loss.backward()\n",
    "        optimizer.step()\n",
    "        running_loss += loss.item()\n",
    "        \n",
    "        if steps % print_every == 0:\n",
    "            print(\"Epoch: {}/{} -- Loss: {:.4f}\" .format(epoch, epochs, running_loss/print_every))\n",
    "            running_loss = 0"
   ]
  },
  {
   "cell_type": "code",
   "execution_count": 14,
   "metadata": {},
   "outputs": [
    {
     "data": {
      "image/png": "[encoded data removed]",
      "text/plain": [
       "<matplotlib.figure.Figure at 0x7f813404f588>"
      ]
     },
     "metadata": {
      "needs_background": "light"
     },
     "output_type": "display_data"
    }
   ],
   "source": [
    "from random import randint\n",
    "images, labels = next(iter(trainloader))\n",
    "index = randint(1, images.shape[0])\n",
    "img = images[index].view(1, 784)\n",
    "\n",
    "# Turn off gradients to speed up\n",
    "with torch.no_grad():\n",
    "    logits = model.forward(img)\n",
    "\n",
    "# Output the classification\n",
    "ps = F.softmax(logits, dim=1)\n",
    "helper.view_classify(img.view(1, 28, 28), ps, version=\"Fashion\")\n"
   ]
  },
  {
   "cell_type": "code",
   "execution_count": null,
   "metadata": {},
   "outputs": [],
   "source": []
  }
 ],
 "metadata": {
  "kernelspec": {
   "display_name": "Python 3",
   "language": "python",
   "name": "python3"
  },
  "language_info": {
   "codemirror_mode": {
    "name": "ipython",
    "version": 3
   },
   "file_extension": ".py",
   "mimetype": "text/x-python",
   "name": "python",
   "nbconvert_exporter": "python",
   "pygments_lexer": "ipython3",
   "version": "3.6.10"
  }
 },
 "nbformat": 4,
 "nbformat_minor": 4
}
