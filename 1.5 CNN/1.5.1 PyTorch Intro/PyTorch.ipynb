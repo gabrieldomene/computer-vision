{
 "cells": [
  {
   "cell_type": "markdown",
   "metadata": {},
   "source": [
    "# Neural Networks with PyTorch"
   ]
  },
  {
   "cell_type": "code",
   "execution_count": 2,
   "metadata": {},
   "outputs": [],
   "source": [
    "%matplotlib inline\n",
    "%config InlineBackend.figure_format = \"retina\"\n",
    "\n",
    "import numpy as np\n",
    "import torch\n",
    "import helper\n",
    "import matplotlib.pyplot as plt\n",
    "from torchvision import datasets, transforms"
   ]
  },
  {
   "cell_type": "code",
   "execution_count": 14,
   "metadata": {},
   "outputs": [],
   "source": [
    "# Define a transform to normalize the data\n",
    "transform = transforms.Compose([transforms.ToTensor(),\n",
    "                                transforms.Normalize((0.5,), (0.5,)),\n",
    "                               ])\n",
    "\n",
    "# Download and load training data\n",
    "trainset = datasets.MNIST(\"MNIST/\", download=True, train=True, transform=transform)\n",
    "trainloader = torch.utils.data.DataLoader(trainset, batch_size=64, shuffle=True)\n",
    "\n",
    "# Download and load the test data\n",
    "testset = datasets.MNIST(\"MNIST_data/\", download=True, train=False, transform=transform)\n",
    "testloader = torch.utils.data.DataLoader(testset, batch_size=64, shuffle=True)"
   ]
  },
  {
   "cell_type": "code",
   "execution_count": 15,
   "metadata": {},
   "outputs": [],
   "source": [
    "dataiter = iter(trainloader)\n",
    "images, labels = dataiter.next()"
   ]
  },
  {
   "cell_type": "code",
   "execution_count": 25,
   "metadata": {},
   "outputs": [
    {
     "data": {
      "text/plain": [
       "<matplotlib.image.AxesImage at 0x7fdccdf50e48>"
      ]
     },
     "execution_count": 25,
     "metadata": {},
     "output_type": "execute_result"
    },
    {
     "data": {
      "image/png": "[encoded data removed]",
      "text/plain": [
       "<matplotlib.figure.Figure at 0x7fdccdf951d0>"
      ]
     },
     "metadata": {
      "image/png": {
       "height": 250,
       "width": 253
      },
      "needs_background": "light"
     },
     "output_type": "display_data"
    }
   ],
   "source": [
    "plt.imshow(images[1].numpy().squeeze(), cmap=\"gray\")"
   ]
  },
  {
   "cell_type": "code",
   "execution_count": 27,
   "metadata": {},
   "outputs": [],
   "source": [
    "from torch import nn\n",
    "import torch.nn.functional as F"
   ]
  },
  {
   "cell_type": "code",
   "execution_count": 29,
   "metadata": {},
   "outputs": [
    {
     "data": {
      "text/plain": [
       "Network(\n",
       "  (fc1): Linear(in_features=784, out_features=128, bias=True)\n",
       "  (fc2): Linear(in_features=128, out_features=64, bias=True)\n",
       "  (fc3): Linear(in_features=64, out_features=10, bias=True)\n",
       ")"
      ]
     },
     "execution_count": 29,
     "metadata": {},
     "output_type": "execute_result"
    }
   ],
   "source": [
    "class Network(nn.Module):\n",
    "    def __init__(self):\n",
    "        super().__init__()\n",
    "        \n",
    "        self.fc1 = nn.Linear(784, 128)\n",
    "        self.fc2 = nn.Linear(128, 64)\n",
    "        self.fc3 = nn.Linear(64, 10)\n",
    "        \n",
    "    def forward(self, x):\n",
    "        x = self.fc1(x)\n",
    "        x = F.relu(x)\n",
    "        x = self.fc2(x)\n",
    "        x = F.relu(x)\n",
    "        x = self.fc3(x)\n",
    "        x = F.softmax(x, dim=1)\n",
    "        \n",
    "        return x\n",
    "    \n",
    "model = Network()\n",
    "model\n",
    "        "
   ]
  },
  {
   "cell_type": "markdown",
   "metadata": {},
   "source": [
    "## Initializing weights and biases"
   ]
  },
  {
   "cell_type": "code",
   "execution_count": 30,
   "metadata": {},
   "outputs": [
    {
     "name": "stdout",
     "output_type": "stream",
     "text": [
      "Parameter containing:\n",
      "tensor([[ 0.0137, -0.0019,  0.0352,  ..., -0.0129, -0.0249,  0.0219],\n",
      "        [ 0.0297, -0.0337,  0.0160,  ...,  0.0082,  0.0115, -0.0217],\n",
      "        [-0.0311,  0.0078, -0.0116,  ..., -0.0069, -0.0015,  0.0004],\n",
      "        ...,\n",
      "        [ 0.0030,  0.0318,  0.0271,  ..., -0.0229, -0.0156, -0.0172],\n",
      "        [-0.0016, -0.0283,  0.0284,  ...,  0.0189,  0.0266,  0.0096],\n",
      "        [ 0.0009,  0.0339, -0.0086,  ...,  0.0188,  0.0254, -0.0179]],\n",
      "       requires_grad=True)\n",
      "Parameter containing:\n",
      "tensor([-1.5234e-02, -3.2867e-02, -2.2089e-02, -3.5668e-02,  1.2601e-02,\n",
      "        -2.0262e-02, -3.2187e-02, -2.6048e-02, -3.2407e-02, -3.3505e-02,\n",
      "        -3.5560e-02,  3.3488e-02,  1.0846e-02,  5.1393e-04,  3.5645e-02,\n",
      "         5.4847e-04, -2.1044e-02,  2.4435e-03, -1.6979e-02,  2.1129e-02,\n",
      "        -2.6059e-02,  2.4545e-02,  2.5338e-02,  3.0087e-02,  1.9737e-02,\n",
      "        -2.8040e-02,  1.2241e-02, -3.5461e-02,  8.3877e-03,  1.5875e-02,\n",
      "        -5.9068e-05,  2.5623e-03, -1.2241e-02, -1.7222e-03, -1.6071e-02,\n",
      "         1.7966e-02, -2.6051e-02, -1.9652e-02, -3.3017e-02,  2.8801e-02,\n",
      "         3.9176e-03, -1.0260e-02, -8.8588e-03, -3.1071e-02,  3.4687e-02,\n",
      "        -1.5248e-02, -9.9252e-04,  3.4754e-02,  9.5485e-03,  2.1042e-02,\n",
      "        -1.4308e-02,  3.4148e-02, -1.3471e-02,  1.3734e-02,  1.7958e-02,\n",
      "         1.3487e-02,  7.8558e-03,  1.9877e-02,  2.3037e-03,  2.9472e-03,\n",
      "        -3.4881e-02, -6.0372e-03,  3.1718e-02,  2.8278e-02, -3.4453e-02,\n",
      "         2.5839e-02,  1.6738e-02,  1.6257e-02,  3.2375e-02,  3.5521e-02,\n",
      "         3.1978e-03,  1.6619e-02,  2.2918e-02,  2.2521e-02, -2.7322e-02,\n",
      "         4.0111e-03,  1.2841e-02, -1.4273e-02,  1.2716e-02,  9.2373e-03,\n",
      "        -6.7561e-03,  4.4188e-03, -1.8472e-03,  3.0854e-02, -1.0900e-02,\n",
      "         1.0924e-02, -2.4484e-02, -8.4938e-03, -4.4527e-03, -1.0712e-02,\n",
      "         1.7265e-02,  3.4239e-02, -3.3642e-02, -1.2835e-03, -1.2112e-02,\n",
      "         2.2799e-02,  2.5447e-02, -1.5641e-02, -2.1982e-02, -3.2786e-03,\n",
      "         1.5988e-02,  1.2422e-02,  9.9272e-03,  1.7579e-02,  2.8630e-02,\n",
      "         2.3549e-02, -2.3418e-02,  1.3957e-02,  2.8890e-02, -7.0262e-03,\n",
      "        -1.0361e-02,  2.3294e-02, -6.1675e-03, -1.2365e-02,  2.9689e-02,\n",
      "         3.3287e-02, -2.7395e-02, -1.2374e-02, -2.7316e-02,  3.2777e-03,\n",
      "         3.1286e-02,  6.3073e-03, -4.2861e-03,  3.3467e-02, -3.3809e-02,\n",
      "         2.4060e-03,  2.5438e-02,  1.0723e-02], requires_grad=True)\n"
     ]
    }
   ],
   "source": [
    "print(model.fc1.weight)\n",
    "print(model.fc1.bias)"
   ]
  },
  {
   "cell_type": "code",
   "execution_count": 31,
   "metadata": {},
   "outputs": [
    {
     "data": {
      "text/plain": [
       "tensor([0., 0., 0., 0., 0., 0., 0., 0., 0., 0., 0., 0., 0., 0., 0., 0., 0., 0., 0., 0., 0., 0., 0., 0.,\n",
       "        0., 0., 0., 0., 0., 0., 0., 0., 0., 0., 0., 0., 0., 0., 0., 0., 0., 0., 0., 0., 0., 0., 0., 0.,\n",
       "        0., 0., 0., 0., 0., 0., 0., 0., 0., 0., 0., 0., 0., 0., 0., 0., 0., 0., 0., 0., 0., 0., 0., 0.,\n",
       "        0., 0., 0., 0., 0., 0., 0., 0., 0., 0., 0., 0., 0., 0., 0., 0., 0., 0., 0., 0., 0., 0., 0., 0.,\n",
       "        0., 0., 0., 0., 0., 0., 0., 0., 0., 0., 0., 0., 0., 0., 0., 0., 0., 0., 0., 0., 0., 0., 0., 0.,\n",
       "        0., 0., 0., 0., 0., 0., 0., 0.])"
      ]
     },
     "execution_count": 31,
     "metadata": {},
     "output_type": "execute_result"
    }
   ],
   "source": [
    "model.fc1.bias.data.fill_(0) # reseting"
   ]
  },
  {
   "cell_type": "code",
   "execution_count": 32,
   "metadata": {},
   "outputs": [
    {
     "data": {
      "text/plain": [
       "tensor([[ 0.0063, -0.0073, -0.0072,  ...,  0.0100,  0.0066,  0.0123],\n",
       "        [-0.0032,  0.0066, -0.0022,  ...,  0.0025, -0.0042, -0.0064],\n",
       "        [-0.0135,  0.0108,  0.0151,  ...,  0.0040, -0.0125,  0.0106],\n",
       "        ...,\n",
       "        [ 0.0031, -0.0082, -0.0147,  ...,  0.0101,  0.0114,  0.0156],\n",
       "        [-0.0098,  0.0200, -0.0111,  ...,  0.0176,  0.0019, -0.0106],\n",
       "        [ 0.0050,  0.0104, -0.0012,  ..., -0.0081,  0.0106,  0.0086]])"
      ]
     },
     "execution_count": 32,
     "metadata": {},
     "output_type": "execute_result"
    }
   ],
   "source": [
    "model.fc1.weight.data.normal_(std=0.01)"
   ]
  },
  {
   "cell_type": "markdown",
   "metadata": {},
   "source": [
    "## Forward pass"
   ]
  },
  {
   "cell_type": "code",
   "execution_count": 34,
   "metadata": {},
   "outputs": [
    {
     "data": {
      "image/png": "[encoded data removed]",
      "text/plain": [
       "<matplotlib.figure.Figure at 0x7fdcceb0e0f0>"
      ]
     },
     "metadata": {
      "image/png": {
       "height": 224,
       "width": 423
      },
      "needs_background": "light"
     },
     "output_type": "display_data"
    }
   ],
   "source": [
    "images, labels = next(iter(trainloader))\n",
    "\n",
    "images.resize_(images.shape[0], 1, 784)\n",
    "\n",
    "ps = model.forward(images[0])\n",
    "\n",
    "helper.view_classify(images[0].view(1, 28, 28), ps)"
   ]
  },
  {
   "cell_type": "code",
   "execution_count": 39,
   "metadata": {},
   "outputs": [
    {
     "name": "stdout",
     "output_type": "stream",
     "text": [
      "Network(\n",
      "  (fc1): Linear(in_features=784, out_features=128, bias=True)\n",
      "  (fc2): Linear(in_features=128, out_features=64, bias=True)\n",
      "  (fc3): Linear(in_features=64, out_features=10, bias=True)\n",
      ")\n"
     ]
    },
    {
     "data": {
      "image/png": "[encoded data removed]",
      "text/plain": [
       "<matplotlib.figure.Figure at 0x7fdccde5dcf8>"
      ]
     },
     "metadata": {
      "image/png": {
       "height": 224,
       "width": 423
      },
      "needs_background": "light"
     },
     "output_type": "display_data"
    }
   ],
   "source": [
    "input_size = 784\n",
    "hidden_size = [128, 64]\n",
    "output_size = 10\n",
    "\n",
    "nn.Sequential(nn.Linear(input_size, hidden_size[0]),\n",
    "              nn.ReLU(),\n",
    "              nn.Linear(hidden_size[0], hidden_size[1]),\n",
    "              nn.ReLU(),\n",
    "              nn.Linear(hidden_size[1], output_size),\n",
    "              nn.Softmax(dim=1))\n",
    "\n",
    "print(model)\n",
    "\n",
    "# Forward pass through the network and display\n",
    "images, labels = next(iter(trainloader))\n",
    "images.resize_(images.shape[0], 1, 784)\n",
    "ps = model.forward(images[0, :])\n",
    "helper.view_classify(images[0].view(1, 28, 28), ps)"
   ]
  },
  {
   "cell_type": "code",
   "execution_count": 41,
   "metadata": {},
   "outputs": [
    {
     "data": {
      "text/plain": [
       "Sequential(\n",
       "  (fc1): Linear(in_features=784, out_features=128, bias=True)\n",
       "  (relu1): ReLU()\n",
       "  (fc2): Linear(in_features=128, out_features=64, bias=True)\n",
       "  (relu2): ReLU()\n",
       "  (fc3): Linear(in_features=64, out_features=10, bias=True)\n",
       "  (softmax): Softmax(dim=1)\n",
       ")"
      ]
     },
     "execution_count": 41,
     "metadata": {},
     "output_type": "execute_result"
    }
   ],
   "source": [
    "# Use an orderedDict to name each ayer\n",
    "from collections import OrderedDict\n",
    "model = nn.Sequential(OrderedDict([\n",
    "                      (\"fc1\", nn.Linear(input_size, hidden_size[0])),\n",
    "                      (\"relu1\", nn.ReLU()),\n",
    "                      (\"fc2\", nn.Linear(hidden_size[0], hidden_size[1])),\n",
    "                      (\"relu2\", nn.ReLU()),\n",
    "                      (\"fc3\", nn.Linear(hidden_size[1], output_size)),\n",
    "                      (\"softmax\", nn.Softmax(dim=1))\n",
    "]))\n",
    "\n",
    "model"
   ]
  },
  {
   "cell_type": "code",
   "execution_count": 43,
   "metadata": {},
   "outputs": [
    {
     "data": {
      "text/plain": [
       "Network(\n",
       "  (fc1): Linear(in_features=784, out_features=400, bias=True)\n",
       "  (fc2): Linear(in_features=400, out_features=200, bias=True)\n",
       "  (fc3): Linear(in_features=200, out_features=100, bias=True)\n",
       "  (fc4): Linear(in_features=100, out_features=10, bias=True)\n",
       ")"
      ]
     },
     "execution_count": 43,
     "metadata": {},
     "output_type": "execute_result"
    }
   ],
   "source": [
    "class Network(nn.Module):\n",
    "    def __init__(self):\n",
    "        super().__init__()\n",
    "        # Define the layers, 400/200/100\n",
    "        self.fc1 = nn.Linear(784, 400)\n",
    "        self.fc2 = nn.Linear(400, 200)\n",
    "        self.fc3 = nn.Linear(200, 100)\n",
    "        self.fc4 = nn.Linear(100, 10)\n",
    "        \n",
    "    def forward(self, x):\n",
    "        x = self.fc1(x)\n",
    "        x = F.relu(x)\n",
    "        x = self.fc2(x)\n",
    "        x = F.relu(x)\n",
    "        x = self.fc3(x)\n",
    "        x = F.relu(x)\n",
    "        x = self.fc4(x)\n",
    "        x = F.softmax(x, dim=1)\n",
    "        \n",
    "        return x\n",
    "\n",
    "model = Network()\n",
    "model"
   ]
  },
  {
   "cell_type": "code",
   "execution_count": 44,
   "metadata": {},
   "outputs": [
    {
     "data": {
      "image/png": "[encoded data removed]",
      "text/plain": [
       "<matplotlib.figure.Figure at 0x7fdccd49ea58>"
      ]
     },
     "metadata": {
      "image/png": {
       "height": 224,
       "width": 423
      },
      "needs_background": "light"
     },
     "output_type": "display_data"
    }
   ],
   "source": [
    "images, labels = next(iter(trainloader))\n",
    "images.resize_(images.shape[0], 1, 784)\n",
    "ps = model.forward(images[0, :])\n",
    "helper.view_classify(images[0].view(1, 28, 28), ps)"
   ]
  },
  {
   "cell_type": "code",
   "execution_count": null,
   "metadata": {},
   "outputs": [],
   "source": []
  }
 ],
 "metadata": {
  "kernelspec": {
   "display_name": "Python 3",
   "language": "python",
   "name": "python3"
  },
  "language_info": {
   "codemirror_mode": {
    "name": "ipython",
    "version": 3
   },
   "file_extension": ".py",
   "mimetype": "text/x-python",
   "name": "python",
   "nbconvert_exporter": "python",
   "pygments_lexer": "ipython3",
   "version": "3.6.10"
  }
 },
 "nbformat": 4,
 "nbformat_minor": 4
}
